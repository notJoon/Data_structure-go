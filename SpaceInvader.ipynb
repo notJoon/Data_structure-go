{
  "nbformat": 4,
  "nbformat_minor": 0,
  "metadata": {
    "colab": {
      "name": "SpaceInvader",
      "provenance": [],
      "collapsed_sections": [],
      "authorship_tag": "ABX9TyMI3g7k3Erv9PsrG9OJP84c"
    },
    "kernelspec": {
      "name": "python3",
      "display_name": "Python 3"
    },
    "language_info": {
      "name": "python"
    }
  },
  "cells": [
    {
      "cell_type": "code",
      "metadata": {
        "id": "B9EB7TIS0obi"
      },
      "source": [
        "!pip install gym \n",
        "!wget http://www.atarimania.com/roms/Roms.rar\n",
        "!unrar x /content/Roms.rar\n",
        "!unzip /content/ROMS.zip\n",
        "!pip install gym-retro\n",
        "!python3 -m retro.import ROMS/\n",
        "!apt-get install -y xvfb x11-utils\n",
        "!pip install gym[all]==0.17.* pyvirtualdisplay==0.2.* PyOpenGL==3.1.* PyOpenGL-accelerate==3.1.*\n",
        "!pip install pyvirtualdisplay"
      ],
      "execution_count": null,
      "outputs": []
    },
    {
      "cell_type": "code",
      "metadata": {
        "id": "RF3b-oax368z"
      },
      "source": [
        "import retro \n",
        "import random\n",
        "from pyvirtualdisplay import Display\n",
        "import matplotlib.pyplot as plt\n",
        "from IPython import display as ipythondisplay\n",
        "import numpy as np\n",
        "import tensorflow as tf \n",
        "from tensorflow import keras \n",
        "from tensorflow.keras import layers"
      ],
      "execution_count": 3,
      "outputs": []
    },
    {
      "cell_type": "code",
      "metadata": {
        "id": "glJmgwaExVWM",
        "colab": {
          "base_uri": "https://localhost:8080/"
        },
        "outputId": "a5bb5399-1ff8-4c4c-d782-630c1100db99"
      },
      "source": [
        "seed = 42\n",
        "gamma = 0.90\n",
        "epsilon = 1.0\n",
        "epsilon_min = 0.1 \n",
        "epsilon_max = 1.0 \n",
        "\n",
        "epsilon_interval = (\n",
        "    epsilon_max - epsilon_min\n",
        ")\n",
        "\n",
        "batch_size = 32 \n",
        "max_steps_per_episode = 1000\n",
        "\n",
        "env = retro.make(game=\"SpaceInvaders-Atari2600\")\n",
        "env.seed(seed)"
      ],
      "execution_count": 5,
      "outputs": [
        {
          "output_type": "execute_result",
          "data": {
            "text/plain": [
              "[42, 742738649]"
            ]
          },
          "metadata": {},
          "execution_count": 5
        }
      ]
    },
    {
      "cell_type": "code",
      "metadata": {
        "id": "ABUT3BbCznYj"
      },
      "source": [
        "num_actions = env.action_space.n\n",
        "\n",
        "def q_model():\n",
        "  input = layers.Input(shape=(84, 84, 4))\n",
        "\n",
        "  # Convolutions on the frames \n",
        "  layer_1 = layers.Conv2D(32, 8, strides=4,\n",
        "                          activation=\"relu\")(inputs)\n",
        "  layer_2 = layers.Conv2D(64, 4, strides=2,\n",
        "                          activation=\"relu\")(layer1)\n",
        "  layer_3 = layers.Conv2D(64, 3, strides=1,\n",
        "                          activation=\"relu\")(layer2)\n",
        "\n",
        "  layer_4 = layers.Flatten()(layer_3)\n",
        "\n",
        "  layer_5 = layers.Dense(512, activation=\"relu\")(layer_4)\n",
        "\n",
        "  action = layers.Dense(num_actions, outputs=\"linear\")(layer_5)\n",
        "\n",
        "  return keras.Model(inputs=inputs, outputs=action)\n",
        "\n",
        "  # Make a action\n",
        "  model = q_model()\n",
        "\n",
        "  # Build a target model for estimate future rewrds\n",
        "  model_target = q_model()"
      ],
      "execution_count": 6,
      "outputs": []
    },
    {
      "cell_type": "code",
      "metadata": {
        "colab": {
          "base_uri": "https://localhost:8080/",
          "height": 287
        },
        "id": "nVyT0UnM4xjk",
        "outputId": "07bf9bc7-2a51-4147-bd16-38eeeda47f36"
      },
      "source": [
        "optimizer = keras.optimizers.Adam(learning_rate=0.00025, clipnorm=1.0)\n",
        "\n",
        "action_history = []\n",
        "state_history = []\n",
        "state_next_history = []\n",
        "rewards_history = []\n",
        "done_history = []\n",
        "episode_reward_history = []\n",
        "\n",
        "runnung_reward = 0\n",
        "episode_count = 0\n",
        "frame_count = 0\n",
        "\n",
        "epsilon_random_frames = 50000\n",
        "epsilon_greedy_frames = 1000000.0 \n",
        "max_memory_length = 100000\n",
        "\n",
        "update_after_actions = 4\n",
        "update_target_network = 10000\n",
        "\n",
        "loss = keras.losses.Huber()\n",
        "\n",
        "display = Display(visible=False, size=(600, 500))\n",
        "display.start()\n",
        "\n",
        "height, width, channels = env.observation_space.shape\n",
        "actions = env.action_space.n\n",
        "episodes = 5\n",
        "prev_screen = env.render(mode='rgb_array')\n",
        "plt.imshow(prev_screen)"
      ],
      "execution_count": 9,
      "outputs": [
        {
          "output_type": "execute_result",
          "data": {
            "text/plain": [
              "<matplotlib.image.AxesImage at 0x7fa66a4c1450>"
            ]
          },
          "metadata": {},
          "execution_count": 9
        },
        {
          "output_type": "display_data",
          "data": {
            "image/png": "[encoded data removed]",
            "text/plain": [
              "<Figure size 432x288 with 1 Axes>"
            ]
          },
          "metadata": {
            "needs_background": "light"
          }
        }
      ]
    },
    {
      "cell_type": "code",
      "metadata": {
        "id": "tfiQubkz5308",
        "colab": {
          "base_uri": "https://localhost:8080/",
          "height": 390
        },
        "outputId": "e8beaaaf-d2b7-4142-b059-e6fef1dcbaac"
      },
      "source": [
        "while True:\n",
        "  state = np.array(env.reset())\n",
        "  episode_reward = 0\n",
        "\n",
        "  env.render(mode='rgb_array')\n",
        "  screen = env.render(mode='rgb_array')\n",
        "\n",
        "  for timestep in range(1, max_steps_per_episode):\n",
        "    frame_count += 1\n",
        "\n",
        "    if frame_count < epsilon_random_frames or epsilon > np.random.rand(1)[0]:\n",
        "      action = np.random.choice(num_actions)\n",
        "\n",
        "    else:\n",
        "      state_tensor = tf.convert_to_tensor(state)\n",
        "      state_tensor = tf.expand_dims(state_tensor, 0)\n",
        "      action_probs = model(state_tensor, training=False)\n",
        "\n",
        "      # Take Best Action\n",
        "      action = tf.argmax(action_probs[0]).numpy()\n",
        "\n",
        "    # Decay probabilty of taking random action \n",
        "    epsilon -= epsilon_interval / epsilon_greedy_frames\n",
        "    epsilon = max(epsilon, epsilon_min)\n",
        "\n",
        "    # Apply sample action \n",
        "    state_next, reward, done, _ = env.step(action))\n",
        "    state_next = np.array(state_next)\n",
        "\n",
        "    episode_reward += reward \n",
        "\n",
        "    # Save action, states in replay buffer \n",
        "    action_history.append(action)\n",
        "    state_history.append(state)\n",
        "    state_next_history.append(state_next)\n",
        "    done_history.append(done)\n",
        "    rewards_history.append(reward)\n",
        "\n",
        "    state = state_next\n",
        "\n",
        "    # Update every 4th frame and once batch size >= 32 \n",
        "    if frame_count % update_after_actions == 0 and len(done_history) > batch_size:\n",
        "      indices = np.random.choice(range(len(done_history)), size=batch_size)\n",
        "\n",
        "      state_sample = np.array([state_history[i] for i in indices])\n",
        "      state_next_sample = np.array([state_next_history[i] for i in indices])\n",
        "      reward_sample = [rewards_history[i] for i in indices]\n",
        "      action_sample = [action_history[i] for i in indices]\n",
        "\n",
        "      done_sample = tf.convert_to_tensor(\n",
        "          [float(done_history[i] for i in indices)]\n",
        "      )\n",
        "\n",
        "      # Build the updated Q-values for the sampled future states\n",
        "      future_reward = model_target.predict(state_next_sample)\n",
        "\n",
        "      update_q_values = reward_sample + gamma * tf.reduce_max(future_reward, axis=1)\n",
        "\n",
        "      updare_q_values = updated_q_values * (1 - done_sample) - done_sample\n",
        "\n",
        "      masks = tf.one_hot(action_sample, num_actions)\n",
        "\n",
        "      with tf.GradientTape() as tape:\n",
        "        # Train model on the states and updated Q-values\n",
        "        q_values = model(state_sample)\n",
        "\n",
        "        # Apply the masks to the q-values to get Q-value for action\n",
        "        q_action = tf.reduce_sum(tf.multiply(q_values, masks), axis=1)\n",
        "\n",
        "        q_loss = loss_function(updated_q_values, q_action)\n",
        "\n",
        "      # Backpropagation \n",
        "      grads = tape.gradient(q_loss, model.trainable_variables)\n",
        "      optimizer.apply_gradients(zip(grads, model.trainable_variables))\n",
        "\n",
        "    if frame_count % update_target_network == 0:\n",
        "      model_target.set_weights(model.get_weights())\n",
        "\n",
        "      template = \"running reward: {:.2f} / episode {}, frame count {}\"\n",
        "      print(template.format(running_reward, episode_count, frame_count))\n",
        "\n",
        "    # Limit the state and reward history\n",
        "    if len(rewards_history) > max_memory_length:\n",
        "      del rewards_history[:1]\n",
        "      del state_history[:1]\n",
        "      del state_next_history[:1]\n",
        "      del action_history[:1]\n",
        "      del done_history[:1]\n",
        "\n",
        "    if done:\n",
        "      break\n",
        "\n",
        "  # Update runnung reward to check condition for solving \n",
        "  episode_reward_history.append(episode_reward)\n",
        "\n",
        "  if len(episode_reward_history) > 100:\n",
        "    del episode_reward_history[:1]\n",
        "\n",
        "  runnung_reward = np.mean(episode_reward_history)\n",
        "\n",
        "  episode_count += 1\n",
        "\n",
        "  if running_reward > 40:\n",
        "    print(\"Finished at episode {}\".format(episode_count))\n",
        "    break\n",
        "\n",
        "  plt.imshow(screen)\n",
        "  ipythondisplay.clear_output(wait=True)\n",
        "  ipythondisplay.display(plt.gcf())\n",
        "      \n",
        "ipythondisplay.clear_output(wait=True)\n",
        "env.close()"
      ],
      "execution_count": 15,
      "outputs": [
        {
          "output_type": "error",
          "ename": "TypeError",
          "evalue": "ignored",
          "traceback": [
            "\u001b[0;31m---------------------------------------------------------------------------\u001b[0m",
            "\u001b[0;31mTypeError\u001b[0m                                 Traceback (most recent call last)",
            "\u001b[0;32m<ipython-input-15-9d2f8914c96d>\u001b[0m in \u001b[0;36m<module>\u001b[0;34m()\u001b[0m\n\u001b[1;32m     25\u001b[0m \u001b[0;34m\u001b[0m\u001b[0m\n\u001b[1;32m     26\u001b[0m     \u001b[0;31m# Apply sample action\u001b[0m\u001b[0;34m\u001b[0m\u001b[0;34m\u001b[0m\u001b[0;34m\u001b[0m\u001b[0m\n\u001b[0;32m---> 27\u001b[0;31m     \u001b[0mstate_next\u001b[0m\u001b[0;34m,\u001b[0m \u001b[0mreward\u001b[0m\u001b[0;34m,\u001b[0m \u001b[0mdone\u001b[0m\u001b[0;34m,\u001b[0m \u001b[0m_\u001b[0m \u001b[0;34m=\u001b[0m \u001b[0menv\u001b[0m\u001b[0;34m.\u001b[0m\u001b[0mstep\u001b[0m\u001b[0;34m(\u001b[0m\u001b[0mint\u001b[0m\u001b[0;34m(\u001b[0m\u001b[0maction\u001b[0m\u001b[0;34m)\u001b[0m\u001b[0;34m)\u001b[0m\u001b[0;34m\u001b[0m\u001b[0;34m\u001b[0m\u001b[0m\n\u001b[0m\u001b[1;32m     28\u001b[0m     \u001b[0mstate_next\u001b[0m \u001b[0;34m=\u001b[0m \u001b[0mnp\u001b[0m\u001b[0;34m.\u001b[0m\u001b[0marray\u001b[0m\u001b[0;34m(\u001b[0m\u001b[0mstate_next\u001b[0m\u001b[0;34m)\u001b[0m\u001b[0;34m\u001b[0m\u001b[0;34m\u001b[0m\u001b[0m\n\u001b[1;32m     29\u001b[0m \u001b[0;34m\u001b[0m\u001b[0m\n",
            "\u001b[0;32m/usr/local/lib/python3.7/dist-packages/retro/retro_env.py\u001b[0m in \u001b[0;36mstep\u001b[0;34m(self, a)\u001b[0m\n\u001b[1;32m    177\u001b[0m             \u001b[0;32mraise\u001b[0m \u001b[0mRuntimeError\u001b[0m\u001b[0;34m(\u001b[0m\u001b[0;34m'Please call env.reset() before env.step()'\u001b[0m\u001b[0;34m)\u001b[0m\u001b[0;34m\u001b[0m\u001b[0;34m\u001b[0m\u001b[0m\n\u001b[1;32m    178\u001b[0m \u001b[0;34m\u001b[0m\u001b[0m\n\u001b[0;32m--> 179\u001b[0;31m         \u001b[0;32mfor\u001b[0m \u001b[0mp\u001b[0m\u001b[0;34m,\u001b[0m \u001b[0map\u001b[0m \u001b[0;32min\u001b[0m \u001b[0menumerate\u001b[0m\u001b[0;34m(\u001b[0m\u001b[0mself\u001b[0m\u001b[0;34m.\u001b[0m\u001b[0maction_to_array\u001b[0m\u001b[0;34m(\u001b[0m\u001b[0ma\u001b[0m\u001b[0;34m)\u001b[0m\u001b[0;34m)\u001b[0m\u001b[0;34m:\u001b[0m\u001b[0;34m\u001b[0m\u001b[0;34m\u001b[0m\u001b[0m\n\u001b[0m\u001b[1;32m    180\u001b[0m             \u001b[0;32mif\u001b[0m \u001b[0mself\u001b[0m\u001b[0;34m.\u001b[0m\u001b[0mmovie\u001b[0m\u001b[0;34m:\u001b[0m\u001b[0;34m\u001b[0m\u001b[0;34m\u001b[0m\u001b[0m\n\u001b[1;32m    181\u001b[0m                 \u001b[0;32mfor\u001b[0m \u001b[0mi\u001b[0m \u001b[0;32min\u001b[0m \u001b[0mrange\u001b[0m\u001b[0;34m(\u001b[0m\u001b[0mself\u001b[0m\u001b[0;34m.\u001b[0m\u001b[0mnum_buttons\u001b[0m\u001b[0;34m)\u001b[0m\u001b[0;34m:\u001b[0m\u001b[0;34m\u001b[0m\u001b[0;34m\u001b[0m\u001b[0m\n",
            "\u001b[0;32m/usr/local/lib/python3.7/dist-packages/retro/retro_env.py\u001b[0m in \u001b[0;36maction_to_array\u001b[0;34m(self, a)\u001b[0m\n\u001b[1;32m    162\u001b[0m                     \u001b[0maction\u001b[0m \u001b[0;34m|=\u001b[0m \u001b[0mbuttons\u001b[0m\u001b[0;34m[\u001b[0m\u001b[0map\u001b[0m\u001b[0;34m[\u001b[0m\u001b[0mi\u001b[0m\u001b[0;34m]\u001b[0m\u001b[0;34m]\u001b[0m\u001b[0;34m\u001b[0m\u001b[0;34m\u001b[0m\u001b[0m\n\u001b[1;32m    163\u001b[0m             \u001b[0;32melse\u001b[0m\u001b[0;34m:\u001b[0m\u001b[0;34m\u001b[0m\u001b[0;34m\u001b[0m\u001b[0m\n\u001b[0;32m--> 164\u001b[0;31m                 \u001b[0map\u001b[0m \u001b[0;34m=\u001b[0m \u001b[0ma\u001b[0m\u001b[0;34m[\u001b[0m\u001b[0mself\u001b[0m\u001b[0;34m.\u001b[0m\u001b[0mnum_buttons\u001b[0m \u001b[0;34m*\u001b[0m \u001b[0mp\u001b[0m\u001b[0;34m:\u001b[0m\u001b[0mself\u001b[0m\u001b[0;34m.\u001b[0m\u001b[0mnum_buttons\u001b[0m \u001b[0;34m*\u001b[0m \u001b[0;34m(\u001b[0m\u001b[0mp\u001b[0m \u001b[0;34m+\u001b[0m \u001b[0;36m1\u001b[0m\u001b[0;34m)\u001b[0m\u001b[0;34m]\u001b[0m\u001b[0;34m\u001b[0m\u001b[0;34m\u001b[0m\u001b[0m\n\u001b[0m\u001b[1;32m    165\u001b[0m                 \u001b[0;32mfor\u001b[0m \u001b[0mi\u001b[0m \u001b[0;32min\u001b[0m \u001b[0mrange\u001b[0m\u001b[0;34m(\u001b[0m\u001b[0mlen\u001b[0m\u001b[0;34m(\u001b[0m\u001b[0map\u001b[0m\u001b[0;34m)\u001b[0m\u001b[0;34m)\u001b[0m\u001b[0;34m:\u001b[0m\u001b[0;34m\u001b[0m\u001b[0;34m\u001b[0m\u001b[0m\n\u001b[1;32m    166\u001b[0m                     \u001b[0maction\u001b[0m \u001b[0;34m|=\u001b[0m \u001b[0mint\u001b[0m\u001b[0;34m(\u001b[0m\u001b[0map\u001b[0m\u001b[0;34m[\u001b[0m\u001b[0mi\u001b[0m\u001b[0;34m]\u001b[0m\u001b[0;34m)\u001b[0m \u001b[0;34m<<\u001b[0m \u001b[0mi\u001b[0m\u001b[0;34m\u001b[0m\u001b[0;34m\u001b[0m\u001b[0m\n",
            "\u001b[0;31mTypeError\u001b[0m: 'int' object is not subscriptable"
          ]
        }
      ]
    },
    {
      "cell_type": "code",
      "metadata": {
        "id": "9FcMy-nc24Pv"
      },
      "source": [
        ""
      ],
      "execution_count": null,
      "outputs": []
    }
  ]
}